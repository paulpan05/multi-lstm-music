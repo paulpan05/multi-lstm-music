{
 "cells": [
  {
   "cell_type": "markdown",
   "metadata": {},
   "source": [
    "# Multi-layer LSTM for Music Generation (with Magenta)"
   ]
  },
  {
   "cell_type": "code",
   "execution_count": 5,
   "metadata": {},
   "outputs": [],
   "source": [
    "import tensorflow as tf\n",
    "from tensorflow.keras.models import Sequential\n",
    "from tensorflow.keras.layers import LSTM, Bidirectional, BatchNormalization, Dropout, Activation"
   ]
  },
  {
   "cell_type": "code",
   "execution_count": 4,
   "metadata": {},
   "outputs": [],
   "source": [
    "def create_network(network_input, n_vocab):\n",
    "    \"\"\" Define constants \"\"\"\n",
    "    hidden_layers = 256\n",
    "    dropout = 0.4\n",
    "    temp = 0.6\n",
    "    \n",
    "    \"\"\" Initializing model \"\"\"\n",
    "    model = Sequential()\n",
    "    \n",
    "    \"\"\" Adding LSTM Layers to Model \"\"\"\n",
    "    model.add(\n",
    "        Bidirectional(\n",
    "            LSTM(\n",
    "                hidden_layers,\n",
    "                dropout=dropout,\n",
    "                return_sequences=True,\n",
    "                input_shape=(network_input.shape[1], network_input.shape[2])\n",
    "            )\n",
    "        )\n",
    "    )\n",
    "    model.add(\n",
    "        Bidirectional(\n",
    "            LSTM(\n",
    "                hidden_layers,\n",
    "                dropout=dropout,\n",
    "                return_sequences=True\n",
    "            )\n",
    "        )\n",
    "    )\n",
    "    model.add(\n",
    "        Bidirectional(\n",
    "            LSTM(\n",
    "                hidden_layers,\n",
    "                dropout=dropout\n",
    "            )\n",
    "        )\n",
    "    )\n",
    "    \n",
    "    \"\"\" Add other layers after LSTM \"\"\"\n",
    "    model.add(BatchNormalization())\n",
    "    model.add(Dropout(dropout))\n",
    "    model.add(Dense(hidden_layers // 2))\n",
    "    model.add(Activation('relu'))\n",
    "    model.add(BatchNormalization())\n",
    "    model.add(Dropout(dropout))\n",
    "    model.add(Dense(n_vocab))\n",
    "    model.add(Lambda(lambda x: x / temp))\n",
    "    model.add(Softmax())\n",
    "    \n",
    "    \"\"\" Define the optimizer and loss function for the model \"\"\"\n",
    "    model.compile(optimizer='adam', loss='categorical_crossentropy')\n",
    "    \n",
    "    return model\n",
    "    "
   ]
  },
  {
   "cell_type": "code",
   "execution_count": 3,
   "metadata": {},
   "outputs": [],
   "source": [
    "import os\n",
    "from magenta.scripts.convert_dir_to_note_sequences import convert_directory\n",
    "from note_seq import music_pb2\n",
    "\n",
    "testing_file = 'testing_sequences'\n",
    "training_file = 'training_sequences'\n",
    "valid_file = 'valid_sequences'\n",
    "\n",
    "# convert_directory(os.path.join(os.getcwd(), 'nesmdb_midi', 'test'), testing_file, True)\n",
    "# convert_directory(os.path.join(os.getcwd(), 'nesmdb_midi', 'train'), training_file, True)\n",
    "# convert_directory(os.path.join(os.getcwd(), 'nesmdb_midi', 'valid'), valid_file, True)"
   ]
  },
  {
   "cell_type": "code",
   "execution_count": 44,
   "metadata": {
    "scrolled": true
   },
   "outputs": [
    {
     "data": {
      "text/plain": [
       "[name: \"p1\"\n",
       ", instrument: 1\n",
       "name: \"p2\"\n",
       ", instrument: 2\n",
       "name: \"no\"\n",
       "]"
      ]
     },
     "execution_count": 44,
     "metadata": {},
     "output_type": "execute_result"
    }
   ],
   "source": [
    "reader = tf.data.TFRecordDataset(testing_file)\n",
    "sequences = []\n",
    "for sequence in reader:\n",
    "    # sequences.append(music_pb2.NoteSequence.FromString(sequence))\n",
    "    sequences.append(sequence)\n",
    "data = music_pb2.NoteSequence.FromString(sequences[0].numpy()).notes\n",
    "data.sort(key=lambda e: e.start_time)\n",
    "data\n",
    "music_pb2.NoteSequence.FromString(sequences[1].numpy()).instrument_infos\n",
    "#\"\"\".sort(key=lambda i: i.)\"\"\"\n",
    "# data = list(data).sort(key=sortStart)\n",
    "#for e in data:\n",
    "#    print(e.start_time)"
   ]
  },
  {
   "cell_type": "code",
   "execution_count": null,
   "metadata": {},
   "outputs": [],
   "source": []
  }
 ],
 "metadata": {
  "kernelspec": {
   "display_name": "Python 3",
   "language": "python",
   "name": "python3"
  },
  "language_info": {
   "codemirror_mode": {
    "name": "ipython",
    "version": 3
   },
   "file_extension": ".py",
   "mimetype": "text/x-python",
   "name": "python",
   "nbconvert_exporter": "python",
   "pygments_lexer": "ipython3",
   "version": "3.8.3"
  }
 },
 "nbformat": 4,
 "nbformat_minor": 4
}
